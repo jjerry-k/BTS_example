{
 "cells": [
  {
   "cell_type": "code",
   "execution_count": 1,
   "metadata": {},
   "outputs": [],
   "source": [
    "import os\n",
    "import h5py\n",
    "import numpy as np\n",
    "import cv2 as cv\n",
    "from matplotlib import pyplot as plt\n",
    "from ipywidgets import interact\n",
    "\n",
    "data_root = \"./mri_example/data\"\n",
    "mat_list = os.listdir(data_root)"
   ]
  },
  {
   "cell_type": "code",
   "execution_count": 4,
   "metadata": {},
   "outputs": [],
   "source": [
    "def load_mat(filepath):\n",
    "    mat = h5py.File(filepath, \"r\")\n",
    "    label = mat['cjdata']['label'].__array__()\n",
    "    img = mat['cjdata']['image'].__array__()\n",
    "    img = img/img.max()\n",
    "    mask = mat['cjdata']['tumorMask'].__array__()\n",
    "    mat.close()\n",
    "    return img, label, mask"
   ]
  },
  {
   "cell_type": "code",
   "execution_count": null,
   "metadata": {},
   "outputs": [],
   "source": [
    "img, label, mask = load_mat(os.path.join(data_root, mat_list[0]))\n",
    "plt.figure(figsize=(10, 5))\n",
    "plt.subplot(121)\n",
    "plt.imshow(img, cmap='gray')\n",
    "plt.subplot(122)\n",
    "plt.imshow(mask, cmap='gray')\n",
    "plt.show()"
   ]
  }
 ],
 "metadata": {
  "kernelspec": {
   "display_name": "Python 3.8.10 64-bit ('bts': conda)",
   "name": "python3810jvsc74a57bd0ea3d438fa299f6bbf6fb7792c98a0cb0ac1e30bc52f5b6e668323126344b32a6"
  },
  "language_info": {
   "codemirror_mode": {
    "name": "ipython",
    "version": 3
   },
   "file_extension": ".py",
   "mimetype": "text/x-python",
   "name": "python",
   "nbconvert_exporter": "python",
   "pygments_lexer": "ipython3",
   "version": "3.8.10"
  },
  "orig_nbformat": 2
 },
 "nbformat": 4,
 "nbformat_minor": 2
}