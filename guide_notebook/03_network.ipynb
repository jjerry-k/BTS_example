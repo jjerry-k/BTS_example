{
 "cells": [
  {
   "cell_type": "code",
   "execution_count": 2,
   "metadata": {},
   "outputs": [],
   "source": [
    "import torch\n",
    "from torch import nn"
   ]
  },
  {
   "cell_type": "code",
   "execution_count": 3,
   "metadata": {},
   "outputs": [],
   "source": [
    "class Conv_Block(nn.Module):\n",
    "    '''(Conv, ReLU) * 2'''\n",
    "    def __init__(self, in_ch, out_ch, pool=None):\n",
    "        super(Conv_Block, self).__init__()\n",
    "        layers = [nn.Conv2d(in_ch, out_ch, 3, padding=1),\n",
    "                  nn.ReLU(inplace=True),\n",
    "                  nn.Conv2d(out_ch, out_ch, 3, padding=1),\n",
    "                  nn.ReLU(inplace=True)]\n",
    "        \n",
    "        if pool:\n",
    "            layers.insert(0, nn.MaxPool2d(2, 2))\n",
    "        \n",
    "        self.conv = nn.Sequential(*layers)\n",
    "            \n",
    "\n",
    "    def forward(self, x):\n",
    "        x = self.conv(x)\n",
    "        return x\n",
    "\n",
    "\n",
    "class Upconv_Block(nn.Module):\n",
    "    def __init__(self, in_ch, out_ch):\n",
    "        super(Upconv_Block, self).__init__()\n",
    "\n",
    "        self.upconv = nn.ConvTranspose2d(in_ch, in_ch//2, 2, stride=2)\n",
    "        \n",
    "        self.conv = Conv_Block(in_ch, out_ch)\n",
    "\n",
    "    def forward(self, x1, x2):\n",
    "        # x1 : unpooled feature\n",
    "        # x2 : encoder feature\n",
    "        x1 = self.upconv(x1)\n",
    "        x1 = nn.UpsamplingBilinear2d(x2.size()[2:])(x1)\n",
    "        x = torch.cat([x2, x1], dim=1)\n",
    "        x = self.conv(x)\n",
    "        return x\n",
    "\n",
    "class Build_UNet(nn.Module):\n",
    "    def __init__(self, input_channel=3, num_classes=5):\n",
    "        super(Build_UNet, self).__init__()\n",
    "        self.conv1 = Conv_Block(input_channel, 64)\n",
    "        self.conv2 = Conv_Block(64, 128, pool=True)\n",
    "        self.conv3 = Conv_Block(128, 256, pool=True)\n",
    "        self.conv4 = Conv_Block(256, 512, pool=True)\n",
    "        self.conv5 = Conv_Block(512, 1024, pool=True)\n",
    "        \n",
    "        self.unconv4 = Upconv_Block(1024, 512)\n",
    "        self.unconv3 = Upconv_Block(512, 256)\n",
    "        self.unconv2 = Upconv_Block(256, 128)\n",
    "        self.unconv1 = Upconv_Block(128, 64)\n",
    "        \n",
    "        self.prediction = nn.Conv2d(64, num_classes, 1)\n",
    "        \n",
    "    def forward(self, x):\n",
    "        en1 = self.conv1(x) #/2\n",
    "        en2 = self.conv2(en1) #/4\n",
    "        en3 = self.conv3(en2) #/8\n",
    "        en4 = self.conv4(en3) #/16\n",
    "        en5 = self.conv5(en4) \n",
    "        \n",
    "        de4 = self.unconv4(en5, en4) # /8\n",
    "        de3 = self.unconv3(de4, en3) # /4\n",
    "        de2 = self.unconv2(de3, en2) # /2\n",
    "        de1 = self.unconv1(de2, en1) # /1\n",
    "        \n",
    "        output = self.prediction(de1)\n",
    "        return output"
   ]
  },
  {
   "cell_type": "code",
   "execution_count": 4,
   "metadata": {},
   "outputs": [],
   "source": [
    "net = Build_UNet(input_channel=1, num_classes=3)"
   ]
  },
  {
   "cell_type": "code",
   "execution_count": 5,
   "metadata": {},
   "outputs": [
    {
     "name": "stdout",
     "output_type": "stream",
     "text": [
      "torch.Size([4, 1, 256, 256])\n"
     ]
    }
   ],
   "source": [
    "tmp_tensor = torch.empty((4, 1, 256, 256))\n",
    "print(tmp_tensor.shape)"
   ]
  },
  {
   "cell_type": "code",
   "execution_count": 6,
   "metadata": {},
   "outputs": [
    {
     "name": "stderr",
     "output_type": "stream",
     "text": [
      "/home/coder/miniconda3/envs/bts/lib/python3.8/site-packages/torch/nn/functional.py:718: UserWarning: Named tensors and all their associated APIs are an experimental feature and subject to change. Please do not use them for anything important until they are released as stable. (Triggered internally at  /pytorch/c10/core/TensorImpl.h:1156.)\n",
      "  return torch.max_pool2d(input, kernel_size, stride, padding, dilation, ceil_mode)\n"
     ]
    },
    {
     "name": "stdout",
     "output_type": "stream",
     "text": [
      "torch.Size([4, 3, 256, 256])\n"
     ]
    }
   ],
   "source": [
    "tmp_result = net(tmp_tensor)\n",
    "print(tmp_result.shape)"
   ]
  }
 ],
 "metadata": {
  "kernelspec": {
   "display_name": "Python 3.8.10 64-bit ('bts': conda)",
   "name": "python3810jvsc74a57bd0ea3d438fa299f6bbf6fb7792c98a0cb0ac1e30bc52f5b6e668323126344b32a6"
  },
  "language_info": {
   "codemirror_mode": {
    "name": "ipython",
    "version": 3
   },
   "file_extension": ".py",
   "mimetype": "text/x-python",
   "name": "python",
   "nbconvert_exporter": "python",
   "pygments_lexer": "ipython3",
   "version": "3.8.10"
  },
  "orig_nbformat": 2
 },
 "nbformat": 4,
 "nbformat_minor": 2
}