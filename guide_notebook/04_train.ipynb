{
 "cells": [
  {
   "cell_type": "code",
   "execution_count": 1,
   "metadata": {},
   "outputs": [],
   "source": [
    "import os\n",
    "import h5py\n",
    "import numpy as np\n",
    "import cv2 as cv\n",
    "from tqdm import tqdm\n",
    "from matplotlib import pyplot as plt\n",
    "\n",
    "import torch\n",
    "from torch import nn, optim\n",
    "from torch.utils.data import Dataset, DataLoader\n",
    "\n",
    "# Device Configuration\n",
    "os.environ[\"CUDA_DEVICE_ORDER\"]=\"PCI_BUS_ID\"\n",
    "os.environ[\"CUDA_VISIBLE_DEVICES\"]= \"4\"\n",
    "\n",
    "device = torch.device('cuda:0' if torch.cuda.is_available() else 'cpu')"
   ]
  },
  {
   "cell_type": "code",
   "execution_count": 2,
   "metadata": {},
   "outputs": [],
   "source": [
    "def load_mat(filepath, img_size):\n",
    "    mat = h5py.File(filepath, \"r\")\n",
    "    label = mat['cjdata']['label'].__array__()\n",
    "    img = mat['cjdata']['image'].__array__()\n",
    "    img = cv.resize(img, (img_size, img_size))\n",
    "    img = img/img.max()\n",
    "    mask = mat['cjdata']['tumorMask'].__array__()\n",
    "    mask = cv.resize(mask, (img_size, img_size))\n",
    "    mat.close()\n",
    "    return img, label, mask\n",
    "\n",
    "class MriDataset(Dataset):\n",
    "    \n",
    "    def __init__(self, root_dir, img_size=256, split_ratio=0.9, mode=\"train\"):\n",
    "        self.dir = root_dir\n",
    "        self.img_size = img_size\n",
    "        file_list = [file for file in os.listdir(root_dir) if file.split(\".\")[-1] == \"mat\"]\n",
    "        self.file_list = file_list[:int(len(file_list)*split_ratio)] if mode == \"train\" else file_list[int(len(file_list)*split_ratio):]\n",
    "\n",
    "    def __len__(self):\n",
    "        return len(self.file_list)\n",
    "    \n",
    "    def __getitem__(self, idx):\n",
    "        img, label, mask = load_mat(os.path.join(self.dir, self.file_list[idx]), self.img_size)\n",
    "        return img[np.newaxis], label[0], mask"
   ]
  },
  {
   "cell_type": "code",
   "execution_count": 3,
   "metadata": {},
   "outputs": [],
   "source": [
    "class Conv_Block(nn.Module):\n",
    "    '''(Conv, ReLU) * 2'''\n",
    "    def __init__(self, in_ch, out_ch, pool=None):\n",
    "        super(Conv_Block, self).__init__()\n",
    "        layers = [nn.Conv2d(in_ch, out_ch, 3, padding=1),\n",
    "                  nn.ReLU(inplace=True),\n",
    "                  nn.Conv2d(out_ch, out_ch, 3, padding=1),\n",
    "                  nn.ReLU(inplace=True)]\n",
    "        \n",
    "        if pool:\n",
    "            layers.insert(0, nn.MaxPool2d(2, 2))\n",
    "        \n",
    "        self.conv = nn.Sequential(*layers)\n",
    "            \n",
    "\n",
    "    def forward(self, x):\n",
    "        x = self.conv(x)\n",
    "        return x\n",
    "\n",
    "\n",
    "class Upconv_Block(nn.Module):\n",
    "    def __init__(self, in_ch, out_ch):\n",
    "        super(Upconv_Block, self).__init__()\n",
    "\n",
    "        self.upconv = nn.ConvTranspose2d(in_ch, in_ch//2, 2, stride=2)\n",
    "        \n",
    "        self.conv = Conv_Block(in_ch, out_ch)\n",
    "\n",
    "    def forward(self, x1, x2):\n",
    "        # x1 : unpooled feature\n",
    "        # x2 : encoder feature\n",
    "        x1 = self.upconv(x1)\n",
    "        x1 = nn.UpsamplingBilinear2d(x2.size()[2:])(x1)\n",
    "        x = torch.cat([x2, x1], dim=1)\n",
    "        x = self.conv(x)\n",
    "        return x\n",
    "\n",
    "class Build_UNet(nn.Module):\n",
    "    def __init__(self, input_channel=3, num_classes=5):\n",
    "        super(Build_UNet, self).__init__()\n",
    "        self.conv1 = Conv_Block(input_channel, 64)\n",
    "        self.conv2 = Conv_Block(64, 128, pool=True)\n",
    "        self.conv3 = Conv_Block(128, 256, pool=True)\n",
    "        self.conv4 = Conv_Block(256, 512, pool=True)\n",
    "        self.conv5 = Conv_Block(512, 1024, pool=True)\n",
    "        \n",
    "        self.unconv4 = Upconv_Block(1024, 512)\n",
    "        self.unconv3 = Upconv_Block(512, 256)\n",
    "        self.unconv2 = Upconv_Block(256, 128)\n",
    "        self.unconv1 = Upconv_Block(128, 64)\n",
    "        \n",
    "        self.prediction = nn.Conv2d(64, num_classes, 1)\n",
    "        \n",
    "    def forward(self, x):\n",
    "        en1 = self.conv1(x) #/2\n",
    "        en2 = self.conv2(en1) #/4\n",
    "        en3 = self.conv3(en2) #/8\n",
    "        en4 = self.conv4(en3) #/16\n",
    "        en5 = self.conv5(en4) \n",
    "        \n",
    "        de4 = self.unconv4(en5, en4) # /8\n",
    "        de3 = self.unconv3(de4, en3) # /4\n",
    "        de2 = self.unconv2(de3, en2) # /2\n",
    "        de1 = self.unconv1(de2, en1) # /1\n",
    "        \n",
    "        output = self.prediction(de1)\n",
    "        return output"
   ]
  },
  {
   "cell_type": "code",
   "execution_count": 4,
   "metadata": {},
   "outputs": [],
   "source": [
    "epochs=100\n",
    "batch_size=2\n",
    "\n",
    "data_root = \"../mri_example/data\"\n",
    "mat_list = os.listdir(data_root)\n",
    "train_mriset = MriDataset(data_root, mode=\"train\")\n",
    "val_mriset = MriDataset(data_root, mode=\"validation\")\n",
    "train_loader = DataLoader(train_mriset, batch_size=batch_size)\n",
    "val_loader = DataLoader(val_mriset, batch_size=batch_size)"
   ]
  },
  {
   "cell_type": "code",
   "execution_count": 5,
   "metadata": {},
   "outputs": [],
   "source": [
    "net = Build_UNet(input_channel=1, num_classes=1).to(device)\n",
    "criterion = nn.BCEWithLogitsLoss()\n",
    "optimizer = optim.Adam(net.parameters(), lr=1e-4)"
   ]
  },
  {
   "cell_type": "code",
   "execution_count": 6,
   "metadata": {},
   "outputs": [],
   "source": [
    "def train_epoch(epochs, epoch, dataloader, model, optimizer, criterion, device):\n",
    "    \"\"\"\n",
    "    Train 1 epoch \n",
    "    \"\"\"\n",
    "    model.train()\n",
    "    \n",
    "    performance_dict = {\n",
    "        \"epoch\": epoch+1\n",
    "    }\n",
    "\n",
    "    summ = {\n",
    "        \"loss\": 0\n",
    "    }\n",
    "\n",
    "    # Training 1 Epoch\n",
    "    with tqdm(total=len(dataloader)) as t:\n",
    "        t.set_description(f'[{epoch+1}/{epochs}]')\n",
    "        \n",
    "        # Iteration step\n",
    "        for i, (batch_img, batch_lab, batch_mask) in enumerate(dataloader):\n",
    "            \n",
    "            X = batch_img.type(torch.float).to(device)\n",
    "            Y = batch_mask.type(torch.float).to(device)\n",
    "            \n",
    "            predictions = net.forward(X)\n",
    "\n",
    "            # Calculate Loss\n",
    "            loss = criterion(predictions.squeeze(dim=1), Y)\n",
    "            summ[\"loss\"] += loss.item()\n",
    "\n",
    "            # Train & Update model\n",
    "            optimizer.zero_grad()\n",
    "            loss.backward()\n",
    "            optimizer.step()\n",
    "\n",
    "            t.set_postfix({key: f\"{val/(i+1):05.3f}\"for key, val in summ.items()})\n",
    "            t.update()\n",
    "    \n",
    "    performance_dict.update({key: val/(i+1) for key, val in summ.items()})\n",
    "    return performance_dict\n",
    "\n",
    "def eval_epoch(epochs, epoch, dataloader, model, optimizer, criterion, device):\n",
    "    \"\"\"\n",
    "    Train 1 epoch \n",
    "    \"\"\"\n",
    "    model.eval()\n",
    "    \n",
    "    performance_dict = {\n",
    "        \"epoch\": epoch+1\n",
    "    }\n",
    "\n",
    "    summ = {\n",
    "        \"loss_val\": 0\n",
    "    }\n",
    "\n",
    "    # Training 1 Epoch\n",
    "    with tqdm(total=len(dataloader)) as t:\n",
    "        t.set_description(f'[{epoch+1}/{epochs}]')\n",
    "        \n",
    "        # Iteration step\n",
    "        with torch.no_grad():\n",
    "            for i, (batch_img, batch_lab, batch_mask) in enumerate(dataloader):\n",
    "                \n",
    "                X = batch_img.type(torch.float).to(device)\n",
    "                Y = batch_mask.type(torch.float).to(device)\n",
    "\n",
    "                predictions = net.forward(X)\n",
    "\n",
    "                # Calculate Loss\n",
    "                loss = criterion(predictions.squeeze(dim=1), Y)\n",
    "                summ[\"loss_val\"] += loss.item()\n",
    "\n",
    "                t.set_postfix({key: f\"{val/(i+1):05.3f}\"for key, val in summ.items()})\n",
    "                t.update()\n",
    "        \n",
    "        performance_dict.update({key: val/(i+1) for key, val in summ.items()})\n",
    "    return performance_dict"
   ]
  },
  {
   "cell_type": "code",
   "execution_count": 7,
   "metadata": {},
   "outputs": [
    {
     "name": "stderr",
     "output_type": "stream",
     "text": [
      "[1/100]:   0%|          | 0/1379 [00:00<?, ?it/s]/home/coder/miniconda3/envs/bts/lib/python3.8/site-packages/torch/nn/functional.py:718: UserWarning: Named tensors and all their associated APIs are an experimental feature and subject to change. Please do not use them for anything important until they are released as stable. (Triggered internally at  /pytorch/c10/core/TensorImpl.h:1156.)\n",
      "  return torch.max_pool2d(input, kernel_size, stride, padding, dilation, ceil_mode)\n",
      "[1/100]: 100%|██████████| 1379/1379 [01:12<00:00, 19.11it/s, loss=0.080]\n",
      "[1/100]: 100%|██████████| 154/154 [00:04<00:00, 33.81it/s, loss_val=0.063]\n"
     ]
    },
    {
     "name": "stdout",
     "output_type": "stream",
     "text": [
      "[1/100] Performance: epoch: 1.000 ; loss: 0.080 ; loss_val: 0.063\n"
     ]
    },
    {
     "name": "stderr",
     "output_type": "stream",
     "text": [
      "[2/100]: 100%|██████████| 1379/1379 [01:17<00:00, 17.88it/s, loss=0.061]\n",
      "[2/100]: 100%|██████████| 154/154 [00:04<00:00, 32.19it/s, loss_val=0.058]\n"
     ]
    },
    {
     "name": "stdout",
     "output_type": "stream",
     "text": [
      "[2/100] Performance: epoch: 2.000 ; loss: 0.061 ; loss_val: 0.058\n"
     ]
    },
    {
     "name": "stderr",
     "output_type": "stream",
     "text": [
      "[3/100]: 100%|██████████| 1379/1379 [01:18<00:00, 17.61it/s, loss=0.058]\n",
      "[3/100]: 100%|██████████| 154/154 [00:04<00:00, 32.62it/s, loss_val=0.056]\n"
     ]
    },
    {
     "name": "stdout",
     "output_type": "stream",
     "text": [
      "[3/100] Performance: epoch: 3.000 ; loss: 0.058 ; loss_val: 0.056\n"
     ]
    },
    {
     "name": "stderr",
     "output_type": "stream",
     "text": [
      "[4/100]: 100%|██████████| 1379/1379 [01:18<00:00, 17.49it/s, loss=0.057]\n",
      "[4/100]: 100%|██████████| 154/154 [00:04<00:00, 32.61it/s, loss_val=0.056]\n"
     ]
    },
    {
     "name": "stdout",
     "output_type": "stream",
     "text": [
      "[4/100] Performance: epoch: 4.000 ; loss: 0.057 ; loss_val: 0.056\n"
     ]
    },
    {
     "name": "stderr",
     "output_type": "stream",
     "text": [
      "[5/100]: 100%|██████████| 1379/1379 [01:18<00:00, 17.48it/s, loss=0.056]\n",
      "[5/100]: 100%|██████████| 154/154 [00:04<00:00, 32.83it/s, loss_val=0.053]\n"
     ]
    },
    {
     "name": "stdout",
     "output_type": "stream",
     "text": [
      "[5/100] Performance: epoch: 5.000 ; loss: 0.056 ; loss_val: 0.053\n"
     ]
    },
    {
     "name": "stderr",
     "output_type": "stream",
     "text": [
      "[6/100]:  18%|█▊        | 252/1379 [00:14<01:04, 17.50it/s, loss=0.055]\n"
     ]
    },
    {
     "ename": "KeyboardInterrupt",
     "evalue": "",
     "output_type": "error",
     "traceback": [
      "\u001b[0;31m---------------------------------------------------------------------------\u001b[0m",
      "\u001b[0;31mKeyboardInterrupt\u001b[0m                         Traceback (most recent call last)",
      "\u001b[0;32m/tmp/ipykernel_183087/4147599028.py\u001b[0m in \u001b[0;36m<module>\u001b[0;34m\u001b[0m\n\u001b[1;32m      1\u001b[0m \u001b[0;32mfor\u001b[0m \u001b[0mepoch\u001b[0m \u001b[0;32min\u001b[0m \u001b[0mrange\u001b[0m\u001b[0;34m(\u001b[0m\u001b[0mepochs\u001b[0m\u001b[0;34m)\u001b[0m\u001b[0;34m:\u001b[0m\u001b[0;34m\u001b[0m\u001b[0;34m\u001b[0m\u001b[0m\n\u001b[0;32m----> 2\u001b[0;31m     \u001b[0mmetrics_summary\u001b[0m \u001b[0;34m=\u001b[0m \u001b[0mtrain_epoch\u001b[0m\u001b[0;34m(\u001b[0m\u001b[0mepochs\u001b[0m\u001b[0;34m,\u001b[0m \u001b[0mepoch\u001b[0m\u001b[0;34m,\u001b[0m \u001b[0mtrain_loader\u001b[0m\u001b[0;34m,\u001b[0m \u001b[0mnet\u001b[0m\u001b[0;34m,\u001b[0m \u001b[0moptimizer\u001b[0m\u001b[0;34m,\u001b[0m \u001b[0mcriterion\u001b[0m\u001b[0;34m,\u001b[0m \u001b[0mdevice\u001b[0m\u001b[0;34m)\u001b[0m\u001b[0;34m\u001b[0m\u001b[0;34m\u001b[0m\u001b[0m\n\u001b[0m\u001b[1;32m      3\u001b[0m     \u001b[0mmetrics_summary\u001b[0m\u001b[0;34m.\u001b[0m\u001b[0mupdate\u001b[0m\u001b[0;34m(\u001b[0m\u001b[0meval_epoch\u001b[0m\u001b[0;34m(\u001b[0m\u001b[0mepochs\u001b[0m\u001b[0;34m,\u001b[0m \u001b[0mepoch\u001b[0m\u001b[0;34m,\u001b[0m \u001b[0mval_loader\u001b[0m\u001b[0;34m,\u001b[0m \u001b[0mnet\u001b[0m\u001b[0;34m,\u001b[0m \u001b[0moptimizer\u001b[0m\u001b[0;34m,\u001b[0m \u001b[0mcriterion\u001b[0m\u001b[0;34m,\u001b[0m \u001b[0mdevice\u001b[0m\u001b[0;34m)\u001b[0m\u001b[0;34m)\u001b[0m\u001b[0;34m\u001b[0m\u001b[0;34m\u001b[0m\u001b[0m\n\u001b[1;32m      4\u001b[0m \u001b[0;34m\u001b[0m\u001b[0m\n\u001b[1;32m      5\u001b[0m     \u001b[0mmetrics_string\u001b[0m \u001b[0;34m=\u001b[0m \u001b[0;34m\" ; \"\u001b[0m\u001b[0;34m.\u001b[0m\u001b[0mjoin\u001b[0m\u001b[0;34m(\u001b[0m\u001b[0;34mf\"{key}: {value:05.3f}\"\u001b[0m \u001b[0;32mfor\u001b[0m \u001b[0mkey\u001b[0m\u001b[0;34m,\u001b[0m \u001b[0mvalue\u001b[0m \u001b[0;32min\u001b[0m \u001b[0mmetrics_summary\u001b[0m\u001b[0;34m.\u001b[0m\u001b[0mitems\u001b[0m\u001b[0;34m(\u001b[0m\u001b[0;34m)\u001b[0m\u001b[0;34m)\u001b[0m\u001b[0;34m\u001b[0m\u001b[0;34m\u001b[0m\u001b[0m\n",
      "\u001b[0;32m/tmp/ipykernel_183087/2721019066.py\u001b[0m in \u001b[0;36mtrain_epoch\u001b[0;34m(epochs, epoch, dataloader, model, optimizer, criterion, device)\u001b[0m\n\u001b[1;32m     31\u001b[0m             \u001b[0;31m# Train & Update model\u001b[0m\u001b[0;34m\u001b[0m\u001b[0;34m\u001b[0m\u001b[0;34m\u001b[0m\u001b[0m\n\u001b[1;32m     32\u001b[0m             \u001b[0moptimizer\u001b[0m\u001b[0;34m.\u001b[0m\u001b[0mzero_grad\u001b[0m\u001b[0;34m(\u001b[0m\u001b[0;34m)\u001b[0m\u001b[0;34m\u001b[0m\u001b[0;34m\u001b[0m\u001b[0m\n\u001b[0;32m---> 33\u001b[0;31m             \u001b[0mloss\u001b[0m\u001b[0;34m.\u001b[0m\u001b[0mbackward\u001b[0m\u001b[0;34m(\u001b[0m\u001b[0;34m)\u001b[0m\u001b[0;34m\u001b[0m\u001b[0;34m\u001b[0m\u001b[0m\n\u001b[0m\u001b[1;32m     34\u001b[0m             \u001b[0moptimizer\u001b[0m\u001b[0;34m.\u001b[0m\u001b[0mstep\u001b[0m\u001b[0;34m(\u001b[0m\u001b[0;34m)\u001b[0m\u001b[0;34m\u001b[0m\u001b[0;34m\u001b[0m\u001b[0m\n\u001b[1;32m     35\u001b[0m \u001b[0;34m\u001b[0m\u001b[0m\n",
      "\u001b[0;32m~/miniconda3/envs/bts/lib/python3.8/site-packages/torch/_tensor.py\u001b[0m in \u001b[0;36mbackward\u001b[0;34m(self, gradient, retain_graph, create_graph, inputs)\u001b[0m\n\u001b[1;32m    253\u001b[0m                 \u001b[0mcreate_graph\u001b[0m\u001b[0;34m=\u001b[0m\u001b[0mcreate_graph\u001b[0m\u001b[0;34m,\u001b[0m\u001b[0;34m\u001b[0m\u001b[0;34m\u001b[0m\u001b[0m\n\u001b[1;32m    254\u001b[0m                 inputs=inputs)\n\u001b[0;32m--> 255\u001b[0;31m         \u001b[0mtorch\u001b[0m\u001b[0;34m.\u001b[0m\u001b[0mautograd\u001b[0m\u001b[0;34m.\u001b[0m\u001b[0mbackward\u001b[0m\u001b[0;34m(\u001b[0m\u001b[0mself\u001b[0m\u001b[0;34m,\u001b[0m \u001b[0mgradient\u001b[0m\u001b[0;34m,\u001b[0m \u001b[0mretain_graph\u001b[0m\u001b[0;34m,\u001b[0m \u001b[0mcreate_graph\u001b[0m\u001b[0;34m,\u001b[0m \u001b[0minputs\u001b[0m\u001b[0;34m=\u001b[0m\u001b[0minputs\u001b[0m\u001b[0;34m)\u001b[0m\u001b[0;34m\u001b[0m\u001b[0;34m\u001b[0m\u001b[0m\n\u001b[0m\u001b[1;32m    256\u001b[0m \u001b[0;34m\u001b[0m\u001b[0m\n\u001b[1;32m    257\u001b[0m     \u001b[0;32mdef\u001b[0m \u001b[0mregister_hook\u001b[0m\u001b[0;34m(\u001b[0m\u001b[0mself\u001b[0m\u001b[0;34m,\u001b[0m \u001b[0mhook\u001b[0m\u001b[0;34m)\u001b[0m\u001b[0;34m:\u001b[0m\u001b[0;34m\u001b[0m\u001b[0;34m\u001b[0m\u001b[0m\n",
      "\u001b[0;32m~/miniconda3/envs/bts/lib/python3.8/site-packages/torch/autograd/__init__.py\u001b[0m in \u001b[0;36mbackward\u001b[0;34m(tensors, grad_tensors, retain_graph, create_graph, grad_variables, inputs)\u001b[0m\n\u001b[1;32m    145\u001b[0m         \u001b[0mretain_graph\u001b[0m \u001b[0;34m=\u001b[0m \u001b[0mcreate_graph\u001b[0m\u001b[0;34m\u001b[0m\u001b[0;34m\u001b[0m\u001b[0m\n\u001b[1;32m    146\u001b[0m \u001b[0;34m\u001b[0m\u001b[0m\n\u001b[0;32m--> 147\u001b[0;31m     Variable._execution_engine.run_backward(\n\u001b[0m\u001b[1;32m    148\u001b[0m         \u001b[0mtensors\u001b[0m\u001b[0;34m,\u001b[0m \u001b[0mgrad_tensors_\u001b[0m\u001b[0;34m,\u001b[0m \u001b[0mretain_graph\u001b[0m\u001b[0;34m,\u001b[0m \u001b[0mcreate_graph\u001b[0m\u001b[0;34m,\u001b[0m \u001b[0minputs\u001b[0m\u001b[0;34m,\u001b[0m\u001b[0;34m\u001b[0m\u001b[0;34m\u001b[0m\u001b[0m\n\u001b[1;32m    149\u001b[0m         allow_unreachable=True, accumulate_grad=True)  # allow_unreachable flag\n",
      "\u001b[0;31mKeyboardInterrupt\u001b[0m: "
     ]
    }
   ],
   "source": [
    "for epoch in range(epochs):\n",
    "    metrics_summary = train_epoch(epochs, epoch, train_loader, net, optimizer, criterion, device)\n",
    "    metrics_summary.update(eval_epoch(epochs, epoch, val_loader, net, optimizer, criterion, device))\n",
    "\n",
    "    metrics_string = \" ; \".join(f\"{key}: {value:05.3f}\" for key, value in metrics_summary.items())\n",
    "    print(f\"[{epoch+1}/{epochs}] Performance: {metrics_string}\")\n",
    "    # avg_loss = 0\n",
    "    # avg_acc = 0\n",
    "    # total_batch = len(train_mriset) // batch_size\n",
    "    # for i, (batch_img, batch_lab, batch_mask) in enumerate(train_loader):\n",
    "    #     X = batch_img.type(torch.float).to(device)\n",
    "    #     Y = batch_mask.type(torch.float).to(device)\n",
    "\n",
    "    #     optimizer.zero_grad()\n",
    "\n",
    "    #     y_pred = net.forward(X)\n",
    "\n",
    "    #     loss = criterion(y_pred.squeeze(dim=1), Y)\n",
    "        \n",
    "    #     loss.backward()\n",
    "    #     optimizer.step()\n",
    "    #     avg_loss += loss.item()\n",
    "\n",
    "    #     if (i+1)%20 == 0 :\n",
    "    #         print(\"Epoch : \", epoch+1, \"Iteration : \", i+1, \" Loss : \", loss.item())\n",
    "\n",
    "    # with torch.no_grad():\n",
    "    #     val_loss = 0\n",
    "    #     total = 0\n",
    "    #     correct = 0\n",
    "    #     for (batch_img, batch_lab, batch_mask) in val_loader:\n",
    "    #         X = batch_img.type(torch.float).to(device)\n",
    "    #         Y = batch_mask.type(torch.float).to(device)\n",
    "    #         y_pred = net(X)\n",
    "    #         val_loss += criterion(y_pred.squeeze(dim=1), Y)\n",
    "    #         _, predicted = torch.max(y_pred.data, 1)\n",
    "    #         total += Y.size(0)\n",
    "    #     val_loss /= total\n",
    "\n",
    "    # print(\"Epoch : \", epoch+1, \" Loss : \", (avg_loss/total_batch), \" Val Loss : \", val_loss.item())\n",
    "    # num_plot=4\n",
    "    # shuffle_idx = np.random.choice(mridataset.len, num_plot, replace=False)\n",
    "    # In = X.cpu().numpy()[shuffle_idx].transpose(0, 2, 3, 1)\n",
    "    # predicted = predicted.cpu().numpy()[shuffle_idx]\n",
    "    # plt.figure(figsize=(10, 4))\n",
    "    # for i in range(num_plot):\n",
    "    #     plt.subplot(2, num_plot, i+1)\n",
    "    #     plt.imshow(In[i])\n",
    "    #     plt.axis(\"off\")\n",
    "    #     plt.subplot(2, num_plot, i+1+num_plot)\n",
    "    #     plt.imshow(predicted[i], cmap='gray')\n",
    "    # plt.show()\n",
    "\n",
    "print(\"Training Done !\")"
   ]
  }
 ],
 "metadata": {
  "kernelspec": {
   "display_name": "Python 3.8.10 64-bit ('bts': conda)",
   "name": "python3810jvsc74a57bd0ea3d438fa299f6bbf6fb7792c98a0cb0ac1e30bc52f5b6e668323126344b32a6"
  },
  "language_info": {
   "codemirror_mode": {
    "name": "ipython",
    "version": 3
   },
   "file_extension": ".py",
   "mimetype": "text/x-python",
   "name": "python",
   "nbconvert_exporter": "python",
   "pygments_lexer": "ipython3",
   "version": "3.8.10"
  },
  "orig_nbformat": 2
 },
 "nbformat": 4,
 "nbformat_minor": 2
}